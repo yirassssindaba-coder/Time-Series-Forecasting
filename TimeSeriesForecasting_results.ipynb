﻿{
    "nbformat_minor":  5,
    "cells":  [
                  {
                      "source":  [
                                     "# Pipeline results — generated notebook\n",
                                     "This notebook summarizes the pipeline run and shows previews of produced artifacts.\n"
                                 ],
                      "cell_type":  "markdown",
                      "metadata":  {

                                   }
                  },
                  {
                      "outputs":  [
                                      {
                                          "data":  {
                                                       "text/plain":  "Wait expired, Browser is being closed by watchdog.\n1) Download\n[download] AAPL 2015-01-01..2024-01-01\n2) Preprocess\n3) Train final model\n[LightGBM] [Info] Auto-choosing col-wise multi-threading, the overhead of testing was 0.000209 seconds.\nYou can set `force_col_wise=true` to remove the overhead.\n[LightGBM] [Info] Total Bins 3060\n[LightGBM] [Info] Number of data points in the train set: 3254, number of used features: 12\n[LightGBM] [Info] Start training from score 81.924142\nModel saved: C:\\Users\\ASUS\\Desktop\\time-series-forecasting\\results\\models\\lightgbm_AAPL_final_20251031T020508Z.pkl\n4) Forecast\nForecast saved: C:\\Users\\ASUS\\Desktop\\time-series-forecasting\\results\\AAPL_forecast_20251031T020508Z.csv\nRun info saved: C:\\Users\\ASUS\\Desktop\\time-series-forecasting\\results\\run_info_20251031T020508Z.json\nPNG save skipped (kaleido may be missing). To enable PNG export run: pip install kaleido\nPNG error: (\u0027The browser seemed to close immediately after starting.\u0027, \u0027You can set the `logging.Logger` level lower to see more output.\u0027, \u0027You may try installing a known working copy of Chrome by running \u0027, \u0027`$ choreo_get_chrome`. It may be your copy auto-updated.\u0027)\n[report] Written: C:\\Users\\ASUS\\Desktop\\time-series-forecasting\\results\\notebooks_html\\report_AAPL_20251031T020508Z.html\n=== Done ==="
                                                   },
                                          "output_type":  "execute_result",
                                          "execution_count":  1,
                                          "metadata":  {

                                                       }
                                      }
                                  ],
                      "source":  [
                                     "# Console log captured from pipeline_run.py\n",
                                     "print(\u0027See below output\u0027)\n"
                                 ],
                      "cell_type":  "code",
                      "execution_count":  null,
                      "metadata":  {

                                   }
                  },
                  {
                      "outputs":  [
                                      {
                                          "data":  {
                                                       "text/plain":  "\"Price\",\"y\"\n\"2023-12-25\",\"191.9747009277344\"\n\"2023-12-26\",\"191.4292907714844\"\n\"2023-12-27\",\"191.52842712402344\"\n\"2023-12-28\",\"191.9548492431641\"\n\"2023-12-29\",\"190.9136657714844\""
                                                   },
                                          "output_type":  "execute_result",
                                          "execution_count":  1,
                                          "metadata":  {

                                                       }
                                      }
                                  ],
                      "source":  [
                                     "# Processed CSV preview (last 5 rows)\n",
                                     "# file: C:\\Users\\ASUS\\Desktop\\time-series-forecasting\\results\\data\\processed\\AAPL_parsed.csv\n"
                                 ],
                      "cell_type":  "code",
                      "execution_count":  null,
                      "metadata":  {

                                   }
                  },
                  {
                      "outputs":  [
                                      {
                                          "data":  {
                                                       "text/plain":  "\"H1\",\"actual\",\"forecast\"\n\"2015-01-02\",\"24.26104164123535\",\"\"\n\"2015-01-03\",\"24.26104164123535\",\"\"\n\"2015-01-04\",\"24.26104164123535\",\"\"\n\"2015-01-05\",\"23.577571868896484\",\"\"\n\"2015-01-06\",\"23.57979393005371\",\"\"\n\"2015-01-07\",\"23.91043472290039\",\"\"\n\"2015-01-08\",\"24.8291244506836\",\"\"\n\"2015-01-09\",\"24.855758666992188\",\"\"\n\"2015-01-10\",\"24.855758666992188\",\"\"\n\"2015-01-11\",\"24.855758666992188\",\"\""
                                                   },
                                          "output_type":  "execute_result",
                                          "execution_count":  1,
                                          "metadata":  {

                                                       }
                                      }
                                  ],
                      "source":  [
                                     "# Forecast CSV preview (first rows)\n",
                                     "# file: C:\\Users\\ASUS\\Desktop\\time-series-forecasting\\results\\AAPL_forecast_20251031T020508Z.csv\n"
                                 ],
                      "cell_type":  "code",
                      "execution_count":  null,
                      "metadata":  {

                                   }
                  },
                  {
                      "outputs":  [
                                      {
                                          "data":  {
                                                       "text/plain":  "Model file: C:\\Users\\ASUS\\Desktop\\time-series-forecasting\\results\\models\\lightgbm_AAPL_final_20251031T020508Z.pkl\nHTML report: C:\\Users\\ASUS\\Desktop\\time-series-forecasting\\results\\notebooks_html\\report_AAPL_20251031T020508Z.html"
                                                   },
                                          "output_type":  "execute_result",
                                          "execution_count":  1,
                                          "metadata":  {

                                                       }
                                      }
                                  ],
                      "source":  "# Artifact paths\n",
                      "cell_type":  "code",
                      "execution_count":  null,
                      "metadata":  {

                                   }
                  },
                  {
                      "source":  [
                                     "## Interactive HTML report\n",
                                     "Open the report in your browser or view in Jupyter: $reportPath\n",
                                     "\\nYou can embed it in Jupyter using an IFrame (notebook must be opened in the project root).\n"
                                 ],
                      "cell_type":  "markdown",
                      "metadata":  {

                                   }
                  },
                  {
                      "source":  [
                                     "### Notes\n",
                                     "- If PNG export did not work, install kaleido in the PYTHON environment used to run the pipeline: pip install kaleido.\\n- All artifacts are inside the results folder.\n"
                                 ],
                      "cell_type":  "markdown",
                      "metadata":  {

                                   }
                  }
              ],
    "nbformat":  4,
    "metadata":  {
                     "kernelspec":  {
                                        "language":  "python",
                                        "name":  "python3",
                                        "display_name":  "Python 3"
                                    },
                     "language_info":  {
                                           "version":  "3.14.0",
                                           "name":  "python"
                                       }
                 }
}
