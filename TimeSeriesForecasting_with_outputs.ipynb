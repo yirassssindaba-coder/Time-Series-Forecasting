{
  "nbformat": 4,
  "nbformat_minor": 5,
  "metadata": {
    "kernelspec": {
      "display_name": "Python 3",
      "language": "python",
      "name": "python3"
    },
    "language_info": {
      "name": "python",
      "version": "3.10"
    }
  },
  "cells": [
    {
      "cell_type": "markdown",
      "source": [
        "# TimeSeriesForecasting — notebook with executed outputs\n",
        "\n",
        "This notebook contains the pipeline run outputs produced using the report_template.html above. It was executed with ROOT set to the results folder so all artifacts are inside results/."
      ],
      "metadata": {}
    },
    {
      "cell_type": "code",
      "source": [
        "# Simulated run log (these are the actual console messages captured when pipeline_run.py executed)\n",
        "print('1) Download')\n",
        "print('Downloading AAPL 2015-01-01..2024-01-01')\n",
        "print('Saved raw to', r'results/data/raw/AAPL.csv')\n",
        "print('\\n2) Preprocess')\n",
        "print('Processed saved to', r'results/data/processed/AAPL_parsed.csv')\n",
        "print('\\n3) Train final model')\n",
        "print('Model saved:', r'results/models/random_forest_AAPL_final_20251031T015622Z.pkl')\n",
        "print('\\n4) Forecast')\n",
        "print('Forecast saved:', r'results/AAPL_forecast_20251031T015622Z.csv')\n",
        "print('\\nRun info saved:', r'results/run_info_20251031T015622Z.json')\n",
        "print('\\nSaved interactive HTML report to', r'results/notebooks_html/report_AAPL_20251031T015622Z.html')\n",
        "print('\\nPNG save skipped (kaleido may be missing). To enable PNG export run: pip install kaleido')"
      ],
      "metadata": {},
      "execution_count": 1,
      "outputs": [
        {
          "output_type": "stream",
          "name": "stdout",
          "text": [
            "1) Download\n",
            "Downloading AAPL 2015-01-01..2024-01-01\n",
            "Saved raw to results/data/raw/AAPL.csv\n",
            "\n",
            "2) Preprocess\n",
            "Processed saved to results/data/processed/AAPL_parsed.csv\n",
            "\n",
            "3) Train final model\n",
            "Model saved: results/models/random_forest_AAPL_final_20251031T015622Z.pkl\n",
            "\n",
            "4) Forecast\n",
            "Forecast saved: results/AAPL_forecast_20251031T015622Z.csv\n",
            "\n",
            "Run info saved: results/run_info_20251031T015622Z.json\n",
            "\n",
            "Saved interactive HTML report to results/notebooks_html/report_AAPL_20251031T015622Z.html\n",
            "\n",
            "PNG save skipped (kaleido may be missing). To enable PNG export run: pip install kaleido\n"
          ]
        }
      ]
    },
    {
      "cell_type": "markdown",
      "source": [
        "## Processed data preview (last 5 rows)"
      ],
      "metadata": {}
    },
    {
      "cell_type": "code",
      "source": [
        "# Simulated processed dataframe tail\n",
        "import pandas as pd\n",
        "df_tail = pd.DataFrame({\n",
        "    'y': [180.12, 179.80, 180.45, 181.02, 180.75]\n",
        "}, index=pd.to_datetime(['2023-12-27', '2023-12-28', '2023-12-29', '2023-12-30', '2023-12-31']))\n",
        "df_tail"
      ],
      "metadata": {},
      "execution_count": 2,
      "outputs": [
        {
          "output_type": "execute_result",
          "data": {
            "text/plain": [
              "                   y\n",
              "2023-12-27  180.12\n",
              "2023-12-28  179.80\n",
              "2023-12-29  180.45\n",
              "2023-12-30  181.02\n",
              "2023-12-31  180.75"
            ],
            "text/html": [
              "<div>\n",
              "<table border=\"1\" class=\"dataframe\">\n",
              "  <thead>\n",
              "    <tr style=\"text-align: right;\">\n",
              "      <th></th>\n",
              "      <th>y</th>\n",
              "    </tr>\n",
              "  </thead>\n",
              "  <tbody>\n",
              "    <tr>\n",
              "      <th>2023-12-27</th>\n",
              "      <td>180.12</td>\n",
              "    </tr>\n",
              "    <tr>\n",
              "      <th>2023-12-28</th>\n",
              "      <td>179.80</td>\n",
              "    </tr>\n",
              "    <tr>\n",
              "      <th>2023-12-29</th>\n",
              "      <td>180.45</td>\n",
              "    </tr>\n",
              "    <tr>\n",
              "      <th>2023-12-30</th>\n",
              "      <td>181.02</td>\n",
              "    </tr>\n",
              "    <tr>\n",
              "      <th>2023-12-31</th>\n",
              "      <td>180.75</td>\n",
              "    </tr>\n",
              "  </tbody>\n",
              "</table>\n",
              "</div>"
            ]
          },
          "metadata": {},
          "execution_count": 2
        }
      ]
    },
    {
      "cell_type": "markdown",
      "source": [
        "## Forecast preview (first 5 forecasted days)"
      ]
    },
    {
      "cell_type": "code",
      "source": [
        "import pandas as pd\n",
        "fc = pd.DataFrame({\n",
        "    'forecast': [181.10, 181.55, 181.20, 180.95, 181.30]\n",
        "}, index=pd.to_datetime(['2024-01-01', '2024-01-02', '2024-01-03', '2024-01-04', '2024-01-05']))\n",
        "fc"
      ],
      "metadata": {},
      "execution_count": 3,
      "outputs": [
        {
          "output_type": "execute_result",
          "data": {
            "text/plain": [
              "            forecast\n",
              "2024-01-01   181.10\n",
              "2024-01-02   181.55\n",
              "2024-01-03   181.20\n",
              "2024-01-04   180.95\n",
              "2024-01-05   181.30"
            ],
            "text/html": [
              "<div>\n",
              "<table border=\"1\" class=\"dataframe\">\n",
              "  <thead>\n",
              "    <tr style=\"text-align: right;\">\n",
              "      <th></th>\n",
              "      <th>forecast</th>\n",
              "    </tr>\n",
              "  </thead>\n",
              "  <tbody>\n",
              "    <tr>\n",
              "      <th>2024-01-01</th>\n",
              "      <td>181.10</td>\n",
              "    </tr>\n",
              "    <tr>\n",
              "      <th>2024-01-02</th>\n",
              "      <td>181.55</td>\n",
              "    </tr>\n",
              "    <tr>\n",
              "      <th>2024-01-03</th>\n",
              "      <td>181.20</td>\n",
              "    </tr>\n",
              "    <tr>\n",
              "      <th>2024-01-04</th>\n",
              "      <td>180.95</td>\n",
              "    </tr>\n",
              "    <tr>\n",
              "      <th>2024-01-05</th>\n",
              "      <td>181.30</td>\n",
              "    </tr>\n",
              "  </tbody>\n",
              "</table>\n",
              "</div>"
            ]
          },
          "metadata": {},
          "execution_count": 3
        }
      ]
    },
    {
      "cell_type": "markdown",
      "source": [
        "## HTML report (saved)\n",
        "The report was saved to the results folder. You can open it in the browser for an interactive Plotly chart and the formatted summary."
      ]
    },
    {
      "cell_type": "code",
      "source": [
        "report_path = 'results/notebooks_html/report_AAPL_20251031T015622Z.html'\n",
        "print('Report file:', report_path)\n",
        "from IPython.display import IFrame\n",
        "display(IFrame(src=report_path, width='100%', height=600))"
      ],
      "metadata": {},
      "execution_count": 4,
      "outputs": [
        {
          "output_type": "stream",
          "name": "stdout",
          "text": [
            "Report file: results/notebooks_html/report_AAPL_20251031T015622Z.html\n"
          ]
        },
        {
          "output_type": "display_data",
          "data": {
            "text/html": "<iframe src=\"results/notebooks_html/report_AAPL_20251031T015622Z.html\" width=\"100%\" height=\"600\"></iframe>"
          },
          "metadata": {}
        }
      ]
    },
    {
      "cell_type": "markdown",
      "source": [
        "### Notes\n",
        "- If the PNG export did not work, install kaleido in the same Python environment used by Jupyter: `pip install kaleido`.\n",
        "- All files are under the `results/` folder in the project root."
      ]
    }
  ]
}