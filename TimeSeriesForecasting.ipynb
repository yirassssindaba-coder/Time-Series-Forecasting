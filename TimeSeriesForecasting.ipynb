﻿{
 "cells": [
  {
   "cell_type": "markdown",
   "metadata": {},
   "source": [
    "# Time Series Forecasting Demo\\n",
    "Notebook generated automatically. Open in JupyterLab and run cells. Results folder: C:\\Users\\ASUS\\Desktop\\time-series-forecasting\\results"
   ]
  },
  {
   "cell_type": "code",
   "execution_count": null,
   "metadata": {},
   "outputs": [],
   "source": [
    "%pip install --upgrade pip setuptools wheel\\n",
    "%pip install pandas numpy yfinance scikit-learn plotly joblib lightgbm prophet statsmodels --quiet || true"
   ]
  },
  {
   "cell_type": "code",
   "execution_count": null,
   "metadata": {},
   "outputs": [],
   "source": [
    "from pathlib import Path\\n",
    "import pandas as pd, numpy as np\\n",
    "import yfinance as yf\\n",
    "from sklearn.ensemble import RandomForestRegressor\\n",
    "import joblib\\n",
    "import plotly.graph_objects as go\\n",
    "ROOT = Path(r\"C:\\Users\\ASUS\\Desktop\\time-series-forecasting\")\\n",
    "DATA_RAW = ROOT / 'data' / 'raw'\\n",
    "DATA_PROC = ROOT / 'data' / 'processed'\\n",
    "RESULTS = ROOT / 'results'\\n",
    "REPORTS = RESULTS / 'notebooks_html'\\n",
    "TICKER = 'AAPL'\\n",
    "START='2015-01-01'\\n",
    "END='2024-01-01'\\n",
    "df = yf.download(TICKER, start=START, end=END, progress=False)\\n",
    "df.to_csv(DATA_RAW / f\"{TICKER}.csv\")\\n",
    "print('Saved raw to', DATA_RAW / f\"{TICKER}.csv\")"
   ]
  },
  {
   "cell_type": "code",
   "execution_count": null,
   "metadata": {},
   "outputs": [],
   "source": [
    "raw = pd.read_csv(DATA_RAW / f\"{TICKER}.csv\", index_col=0, parse_dates=True)\\n",
    "s = raw[['Close']].rename(columns={'Close':'y'}).sort_index()\\n",
    "s = s.asfreq('D')\\n",
    "s['y'] = s['y'].ffill()\\n",
    "s.to_csv(DATA_PROC / f\"{TICKER}_parsed.csv\")\\n",
    "print('Processed saved to', DATA_PROC / f\"{TICKER}_parsed.csv\")"
   ]
  },
  {
   "cell_type": "code",
   "execution_count": null,
   "metadata": {},
   "outputs": [],
   "source": [
    "def create_features(df):\\n",
    "    out = df.copy()\\n",
    "    for l in (1,2,3,7,14,30):\\n",
    "        out[f'lag_{l}'] = out['y'].shift(l)\\n",
    "    for w in (3,7,14):\\n",
    "        out[f'roll_mean_{w}'] = out['y'].shift(1).rolling(w).mean()\\n",
    "    return out\\n",
    "df = pd.read_csv(DATA_PROC / f\"{TICKER}_parsed.csv\", index_col=0, parse_dates=True)\\n",
    "df_feat = create_features(df).dropna()\\n",
    "X = df_feat.drop(columns=['y'])\\n",
    "y = df_feat['y']\\n",
    "from sklearn.model_selection import train_test_split\\n",
    "split = int(len(X)*0.8)\\n",
    "X_train, X_val = X.iloc[:split], X.iloc[split:]\\n",
    "y_train, y_val = y.iloc[:split], y.iloc[split:]\\n",
    "try:\\n",
    "    import lightgbm as lgb\\n",
    "    model = lgb.LGBMRegressor(n_estimators=200)\\n",
    "    model.fit(X_train, y_train)\\n",
    "    model_name='lightgbm'\\n",
    "except Exception as e:\\n",
    "    model = RandomForestRegressor(n_estimators=200, random_state=42)\\n",
    "    model.fit(X_train, y_train)\\n",
    "    model_name='random_forest'\\n",
    "joblib.dump(model, ROOT / 'models' / f\"{model_name}_{TICKER}.pkl\")\\n",
    "print('Model saved:', ROOT / 'models' / f\"{model_name}_{TICKER}.pkl\")"
   ]
  },
  {
   "cell_type": "code",
   "execution_count": null,
   "metadata": {},
   "outputs": [],
   "source": [
    "def iterative_forecast(model, history_df, steps=30):\\n",
    "    cur = history_df.copy().asfreq('D')\\n",
    "    preds = []\\n",
    "    for i in range(steps):\\n",
    "        feat = create_features(cur).iloc[[-1]].drop(columns=['y'], errors='ignore')\\n",
    "        feat = feat.fillna(method='ffill').fillna(method='bfill').fillna(0)\\n",
    "        try:\\n",
    "            p = float(model.predict(feat)[0])\\n",
    "        except Exception:\\n",
    "            p = float(model.predict(feat.values)[0])\\n",
    "        next_date = cur.index[-1] + pd.Timedelta(days=1)\\n",
    "        preds.append((next_date, p))\\n",
    "        cur.loc[next_date] = [p]\\n",
    "    return pd.DataFrame({'pred':[v for (_,v) in preds]}, index=[d for (d,_) in preds])\\n",
    "fc = iterative_forecast(model, df, steps=30)\\n",
    "fc.to_csv(RESULTS / f\"{TICKER}_forecast.csv\")\\n",
    "print('Forecast saved to', RESULTS / f\"{TICKER}_forecast.csv\")"
   ]
  },
  {
   "cell_type": "code",
   "execution_count": null,
   "metadata": {},
   "outputs": [],
   "source": [
    "import plotly.graph_objects as go\\n",
    "fig = go.Figure()\\n",
    "fig.add_trace(go.Scatter(x=df.index, y=df['y'], name='Actual'))\\n",
    "fig.add_trace(go.Scatter(x=fc.index, y=fc['pred'], name='Forecast'))\\n",
    "fig.update_layout(title=f'{TICKER} Actual vs Forecast', height=600)\\n",
    "fig.show()"
   ]
  }
 ],
 "metadata": {
  "kernelspec": {
   "display_name": "Python 3",
   "language": "python",
   "name": "python3"
  },
  "language_info": {
   "name": "python",
   "version": ""
  }
 },
 "nbformat": 4,
 "nbformat_minor": 5
}
