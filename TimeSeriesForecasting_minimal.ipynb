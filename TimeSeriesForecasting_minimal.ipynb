﻿{
 "cells": [
  {
   "cell_type": "markdown",
   "metadata": {},
   "source": [
    "# Time Series Forecasting (AAPL)\\n",
    "Run this notebook in JupyterLab from the project folder. The notebook installs small deps and runs the main pipeline steps interactively."
   ]
  },
  {
   "cell_type": "code",
   "execution_count": null,
   "metadata": {},
   "outputs": [],
   "source": [
    "%pip install --upgrade pip setuptools wheel\\n",
    "%pip install pandas numpy yfinance scikit-learn joblib plotly[kaleido] jinja2 --quiet || true\\n",
    "%pip install lightgbm prophet statsmodels --quiet || true"
   ]
  }
 ],
 "metadata": {"kernelspec": {"display_name": "Python 3", "language": "python", "name": "python3"},"language_info": {"name": "python"}},
 "nbformat": 4,
 "nbformat_minor": 5
}
